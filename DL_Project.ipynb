{
 "cells": [
  {
   "cell_type": "markdown",
   "id": "20a6d92e-ab74-42a1-a660-28b28fb90de9",
   "metadata": {},
   "source": [
    "# Deep Learning project\n",
    "\n",
    "The objective of this project is to learn more about:\n",
    "- Optimizers: You have a variety of Algorithms available at [optim](https://pytorch.org/docs/stable/optim.html). I just want you to select one we have not used (this is, different from SGD or Adam). Use it to train the model and explain what it does.\n",
    "- Loss functions: Same as before, you have a set of [loss functions](https://pytorch.org/docs/stable/nn.html#loss-functions) available in pytoch for measuring the error in your classification. Again, pick a suitable one (it has to be a multi-class classification metric), explain what it does and use it. \n",
    "- Confusion Matrix: The idea is to learn how to make a visualy appealing confusion matrix that easily pinpoints the flaws of the model. You can follow this [blog](https://christianbernecker.medium.com/how-to-create-a-confusion-matrix-in-pytorch-38d06a7f04b7) for the task. You don't need to normalise the Confusion matrix if the output size is ok, but try playing around with heatmap's `cmap` option to change colors into something appealing. \n",
    "\n",
    "For this task we will use the MNIST dataset (the one with the numbers) and this are the tasks: \n",
    "1. Import the data and construct `DataLoader`s for train and test (you can use the code from the Classification-with-NN.ipynb notebook in the SimpleNN folder to import the data)\n",
    "2. Construct a Convolutional Neural Network\n",
    "3. Decide the optimizer and loss function following the explannation above\n",
    "4. Create a training loop in which you will visualize test accuracy during the process\n",
    "5. The same way we did for the FashionMNIST, we want to see where did the model fail, so plot the images with the wrongly predicted labels together with the true labels\n",
    "6. Follow the blog above or whatever other reference to create a beautiful confusion matrix"
   ]
  },
  {
   "cell_type": "code",
   "execution_count": null,
   "id": "39938fbf-15a9-4f91-ac84-7596f26bc9f9",
   "metadata": {},
   "outputs": [],
   "source": []
  }
 ],
 "metadata": {
  "kernelspec": {
   "display_name": "Python 3 (ipykernel)",
   "language": "python",
   "name": "python3"
  },
  "language_info": {
   "codemirror_mode": {
    "name": "ipython",
    "version": 3
   },
   "file_extension": ".py",
   "mimetype": "text/x-python",
   "name": "python",
   "nbconvert_exporter": "python",
   "pygments_lexer": "ipython3",
   "version": "3.10.6"
  }
 },
 "nbformat": 4,
 "nbformat_minor": 5
}
